{
  "nbformat": 4,
  "nbformat_minor": 0,
  "metadata": {
    "colab": {
      "name": "data_preprocessing.ipynb",
      "provenance": []
    },
    "kernelspec": {
      "display_name": "Python 3",
      "name": "python3"
    },
    "language_info": {
      "name": "python"
    }
  },
  "cells": [
    {
      "cell_type": "markdown",
      "metadata": {
        "id": "6SHn95JkDxnF"
      },
      "source": [
        "Mounting drive so that files can be read and written in folder "
      ]
    },
    {
      "cell_type": "code",
      "metadata": {
        "colab": {
          "base_uri": "https://localhost:8080/"
        },
        "id": "9FKlxU3oDsLO",
        "outputId": "ab6cbbb6-5265-4664-a8fa-21943a87aae0"
      },
      "source": [
        "from google.colab import drive\n",
        "drive.mount('/content/gdrive')"
      ],
      "execution_count": 1,
      "outputs": [
        {
          "output_type": "stream",
          "text": [
            "Mounted at /content/gdrive\n"
          ],
          "name": "stdout"
        }
      ]
    },
    {
      "cell_type": "markdown",
      "metadata": {
        "id": "kxw198qdwZiC"
      },
      "source": [
        "Change the path to the location where your files are located on the drive"
      ]
    },
    {
      "cell_type": "code",
      "metadata": {
        "colab": {
          "base_uri": "https://localhost:8080/"
        },
        "id": "gAKD3iJDECxR",
        "outputId": "345afa9f-2912-4515-ee85-4b7e8cc14107"
      },
      "source": [
        "%cd /content/gdrive/My Drive/Classroom/Big Data Analytics - Spring 2021/Assignment 1/"
      ],
      "execution_count": 2,
      "outputs": [
        {
          "output_type": "stream",
          "text": [
            "/content/gdrive/My Drive/Classroom/Big Data Analytics - Spring 2021/Assignment 1\n"
          ],
          "name": "stdout"
        }
      ]
    },
    {
      "cell_type": "markdown",
      "metadata": {
        "id": "NHI3N4c0wnC6"
      },
      "source": [
        "Adding imports"
      ]
    },
    {
      "cell_type": "code",
      "metadata": {
        "id": "r889QokoEIzn"
      },
      "source": [
        "import numpy as np\n",
        "import pandas as pd\n",
        "from sklearn.preprocessing import MinMaxScaler\n",
        "import random\n",
        "from sklearn.metrics import mean_squared_error\n",
        "import statistics\n",
        "import matplotlib.pyplot as plt\n",
        "from collections import Counter"
      ],
      "execution_count": 3,
      "outputs": []
    },
    {
      "cell_type": "markdown",
      "metadata": {
        "id": "5boZNBStEKUp"
      },
      "source": [
        "Read the tab separated file into dataframe "
      ]
    },
    {
      "cell_type": "code",
      "metadata": {
        "id": "Sd0dAioyEOWT"
      },
      "source": [
        "df=pd.read_csv('profiles.txt', delimiter='\\t',header=None)"
      ],
      "execution_count": 4,
      "outputs": []
    },
    {
      "cell_type": "markdown",
      "metadata": {
        "id": "ftrPdVpbEaTs"
      },
      "source": [
        "Add header containing column names to the dataframe"
      ]
    },
    {
      "cell_type": "code",
      "metadata": {
        "id": "bc255fbEEecT"
      },
      "source": [
        "df.columns=['user_id','public','completion_percentage','gender', 'region','last_login','registration', 'age',\n",
        "    'body','I_am_working_in_field','spoken_languages','hobbies','I_most_enjoy_good_food', 'pets',\n",
        "    'body_type','my_eyesight','eye_color', 'hair_color',\n",
        "    'hair_type',\n",
        "    'completed_level_of_education',\n",
        "    'favourite_color',\n",
        "    'relation_to_smoking',\n",
        "    'relation_to_alcohol',\n",
        "    'sign_in_zodiac',\n",
        "    'on_pokec_i_am_looking_for',\n",
        "    'love_is_for_me',\n",
        "    'relation_to_casual_sex',\n",
        "    'my_partner_should_be',\n",
        "    'marital_status',\n",
        "    'children',\n",
        "    'relation_to_children',\n",
        "    'I_like_movies',\n",
        "    'I_like_watching_movie',\n",
        "    'I_like_music',\n",
        "    'I_mostly_like_listening_to_music','the_idea_of_good_evening','I_like_specialties_from_kitchen',\n",
        "    'fun','I_am_going_to_concerts',\n",
        "    'my_active_sports','my_passive_sports',\n",
        "    'profession','I_like_books','life_style','music',\n",
        "    'cars','politics','relationships','art_culture',\n",
        "    'hobbies_interests','science_technologies','computers_internet',\n",
        "    'education','sport','movies','travelling','health','companies_brands','more','m2']"
      ],
      "execution_count": 7,
      "outputs": []
    },
    {
      "cell_type": "markdown",
      "metadata": {
        "id": "NGREnGc2ErPL"
      },
      "source": [
        "**Exploratory Data Analysis**"
      ]
    },
    {
      "cell_type": "markdown",
      "metadata": {
        "id": "GcbsLKC2FCF_"
      },
      "source": [
        "Checking count of nulls in each column"
      ]
    },
    {
      "cell_type": "code",
      "metadata": {
        "id": "rYKb8b0XE9a4",
        "colab": {
          "base_uri": "https://localhost:8080/"
        },
        "outputId": "368171d6-06a5-4f93-cfbf-8ea0aa6fe152"
      },
      "source": [
        "df.isnull().sum(axis=0)"
      ],
      "execution_count": 8,
      "outputs": [
        {
          "output_type": "execute_result",
          "data": {
            "text/plain": [
              "user_id                                   0\n",
              "public                                    0\n",
              "completion_percentage                     0\n",
              "gender                                  163\n",
              "region                                  163\n",
              "last_login                              163\n",
              "registration                            163\n",
              "age                                     163\n",
              "body                                 838959\n",
              "I_am_working_in_field               1051691\n",
              "spoken_languages                     831112\n",
              "hobbies                              828490\n",
              "I_most_enjoy_good_food               936563\n",
              "pets                                 932122\n",
              "body_type                            886860\n",
              "my_eyesight                          814891\n",
              "eye_color                            732964\n",
              "hair_color                           779961\n",
              "hair_type                            861849\n",
              "completed_level_of_education         886858\n",
              "favourite_color                      804927\n",
              "relation_to_smoking                  786859\n",
              "relation_to_alcohol                  805137\n",
              "sign_in_zodiac                       790451\n",
              "on_pokec_i_am_looking_for            853359\n",
              "love_is_for_me                       894301\n",
              "relation_to_casual_sex              1009508\n",
              "my_partner_should_be                 909389\n",
              "marital_status                       882423\n",
              "children                            1157114\n",
              "relation_to_children                1129064\n",
              "I_like_movies                        840642\n",
              "I_like_watching_movie                903298\n",
              "I_like_music                         865699\n",
              "I_mostly_like_listening_to_music     883000\n",
              "the_idea_of_good_evening             914406\n",
              "I_like_specialties_from_kitchen      910338\n",
              "fun                                 1443428\n",
              "I_am_going_to_concerts              1085915\n",
              "my_active_sports                     953798\n",
              "my_passive_sports                    993705\n",
              "profession                          1158918\n",
              "I_like_books                         966633\n",
              "life_style                          1412983\n",
              "music                               1462052\n",
              "cars                                1583553\n",
              "politics                            1605458\n",
              "relationships                       1422257\n",
              "art_culture                         1596871\n",
              "hobbies_interests                   1498403\n",
              "science_technologies                1601502\n",
              "computers_internet                  1581151\n",
              "education                           1582987\n",
              "sport                               1552922\n",
              "movies                              1560893\n",
              "travelling                          1597763\n",
              "health                              1587498\n",
              "companies_brands                    1610824\n",
              "more                                1442215\n",
              "m2                                  1632803\n",
              "dtype: int64"
            ]
          },
          "metadata": {
            "tags": []
          },
          "execution_count": 8
        }
      ]
    },
    {
      "cell_type": "markdown",
      "metadata": {
        "id": "kXhfl1eEFLgE"
      },
      "source": [
        "Checking count of nulls in each row"
      ]
    },
    {
      "cell_type": "code",
      "metadata": {
        "id": "2ikgLbirFH3g",
        "colab": {
          "base_uri": "https://localhost:8080/"
        },
        "outputId": "83554306-c903-4634-c88b-8c020e91f69a"
      },
      "source": [
        "df.isnull().sum(axis=1)"
      ],
      "execution_count": null,
      "outputs": [
        {
          "output_type": "execute_result",
          "data": {
            "text/plain": [
              "0          46\n",
              "1          23\n",
              "2          22\n",
              "3          37\n",
              "4          52\n",
              "           ..\n",
              "1632798    52\n",
              "1632799    52\n",
              "1632800    52\n",
              "1632801    50\n",
              "1632802    52\n",
              "Length: 1632803, dtype: int64"
            ]
          },
          "metadata": {
            "tags": []
          },
          "execution_count": 7
        }
      ]
    },
    {
      "cell_type": "markdown",
      "metadata": {
        "id": "BI01j7GMFWs8"
      },
      "source": [
        "Checking values in different columns"
      ]
    },
    {
      "cell_type": "code",
      "metadata": {
        "id": "J-LqnuejFOXH",
        "colab": {
          "base_uri": "https://localhost:8080/"
        },
        "outputId": "e7799e4e-ed3a-4b53-cafa-9863fbbbdfd7"
      },
      "source": [
        "df['my_active_sports'].head(100)"
      ],
      "execution_count": null,
      "outputs": [
        {
          "output_type": "execute_result",
          "data": {
            "text/plain": [
              "0                                                   NaN\n",
              "1                                                   NaN\n",
              "2                                   lyzovanie, plavanie\n",
              "3               hokej, futbal, auto-moto sporty, squash\n",
              "4                                                   NaN\n",
              "                            ...                        \n",
              "95                                                  NaN\n",
              "96    nie som velky sportovec..dokonca ani plavat ne...\n",
              "97                                                  NaN\n",
              "98                                                  NaN\n",
              "99                                                  NaN\n",
              "Name: my_active_sports, Length: 100, dtype: object"
            ]
          },
          "metadata": {
            "tags": []
          },
          "execution_count": 8
        }
      ]
    },
    {
      "cell_type": "code",
      "metadata": {
        "id": "evEfvEj5FiAe",
        "colab": {
          "base_uri": "https://localhost:8080/"
        },
        "outputId": "63104e55-8baf-4b2b-c086-844dfa088451"
      },
      "source": [
        "df['fun'].head(100)"
      ],
      "execution_count": null,
      "outputs": [
        {
          "output_type": "execute_result",
          "data": {
            "text/plain": [
              "0                                                   NaN\n",
              "1     <div> <a title=\"vstup do klubu\" href=\"/klub/pr...\n",
              "2                                                   NaN\n",
              "3                                                   NaN\n",
              "4                                                   NaN\n",
              "                            ...                        \n",
              "95                                                  NaN\n",
              "96    <div> <a title=\"vstup do klubu\" href=\"/klub/st...\n",
              "97                                                  NaN\n",
              "98                                                  NaN\n",
              "99    <div> <a title=\"vstup do klubu\" href=\"/klub/gr...\n",
              "Name: fun, Length: 100, dtype: object"
            ]
          },
          "metadata": {
            "tags": []
          },
          "execution_count": 9
        }
      ]
    },
    {
      "cell_type": "code",
      "metadata": {
        "id": "4O-f7ycVFlrg",
        "colab": {
          "base_uri": "https://localhost:8080/"
        },
        "outputId": "1f60f357-e6fe-481b-b806-e1e981e15add"
      },
      "source": [
        "df['my_eyesight'].head(100)"
      ],
      "execution_count": null,
      "outputs": [
        {
          "output_type": "execute_result",
          "data": {
            "text/plain": [
              "0                                            NaN\n",
              "1                                        vyborny\n",
              "2     to co by som mal nosit tak nenosim asi tak\n",
              "3                                            NaN\n",
              "4                                            NaN\n",
              "                         ...                    \n",
              "95                                       vyborny\n",
              "96                                           NaN\n",
              "97                                           NaN\n",
              "98                                           NaN\n",
              "99                                           NaN\n",
              "Name: my_eyesight, Length: 100, dtype: object"
            ]
          },
          "metadata": {
            "tags": []
          },
          "execution_count": 10
        }
      ]
    },
    {
      "cell_type": "markdown",
      "metadata": {
        "id": "gqKudV7GFsLk"
      },
      "source": [
        "After exploring data it is found that columns:\n",
        "*   fun \n",
        "*   life_style\n",
        "*   music \n",
        "*   politics\n",
        "*   cars\n",
        "*   relationships\n",
        "*   art_culture\n",
        "*   hobbies_interest\n",
        "*   science_technologies\n",
        "*   computers_internet\n",
        "*   education\n",
        "*   sports\n",
        "*   movies\n",
        "*   travelling\n",
        "*   health\n",
        "*   companies_brands\n",
        "*   more\n",
        "\n",
        "have garbage data in them, so these columns are dropped. Apart from that we are also dropping columns:\n",
        "*   registration\n",
        "*   public\n",
        "*   completion_percentage\n",
        "*   body_type\n",
        "*    body\n",
        "*   my_eyesight\n",
        "*   hair_type\n",
        "*   sign_in_zodiac\n",
        "*   on_pokec_i_am_looking_for\n",
        "\n",
        "because they donot provide information relavant to our analysis.163 rows that contain null data in each column are also dropped.\n",
        "\n",
        "\n"
      ]
    },
    {
      "cell_type": "code",
      "metadata": {
        "id": "RgVEddTwJ5Ev"
      },
      "source": [
        "df_raw=df"
      ],
      "execution_count": null,
      "outputs": []
    },
    {
      "cell_type": "markdown",
      "metadata": {
        "id": "Q14A1DHCI7ra"
      },
      "source": [
        "Dropping rows having null in each column"
      ]
    },
    {
      "cell_type": "code",
      "metadata": {
        "id": "tJyeAVL_JhDQ"
      },
      "source": [
        "df=df[df.completion_percentage!=0]\n"
      ],
      "execution_count": null,
      "outputs": []
    },
    {
      "cell_type": "markdown",
      "metadata": {
        "id": "bAP4xJxTPV4J"
      },
      "source": [
        "Dropping columns having garbage values"
      ]
    },
    {
      "cell_type": "code",
      "metadata": {
        "id": "Qu3QTPA7PZii",
        "colab": {
          "base_uri": "https://localhost:8080/"
        },
        "outputId": "69a629c6-8f88-427f-c936-fbc06cf038b1"
      },
      "source": [
        "df.drop(['fun','life_style','music','cars','politics','relationships','art_culture',\n",
        "        'hobbies_interests','science_technologies','computers_internet',\n",
        "        'education','sport','movies','travelling','health','companies_brands','more','m2'], axis='columns', inplace=True)"
      ],
      "execution_count": null,
      "outputs": [
        {
          "output_type": "stream",
          "text": [
            "/usr/local/lib/python3.7/dist-packages/pandas/core/frame.py:4174: SettingWithCopyWarning: \n",
            "A value is trying to be set on a copy of a slice from a DataFrame\n",
            "\n",
            "See the caveats in the documentation: https://pandas.pydata.org/pandas-docs/stable/user_guide/indexing.html#returning-a-view-versus-a-copy\n",
            "  errors=errors,\n"
          ],
          "name": "stderr"
        }
      ]
    },
    {
      "cell_type": "markdown",
      "metadata": {
        "id": "LzuvNOgTQYS_"
      },
      "source": [
        "Dropping columns that are not of interest"
      ]
    },
    {
      "cell_type": "code",
      "metadata": {
        "id": "1Xn9MgKgQcE1",
        "colab": {
          "base_uri": "https://localhost:8080/"
        },
        "outputId": "6a83c9c0-ca4d-44db-c033-3c6c43924882"
      },
      "source": [
        "df.drop(['registration','public','body','body_type','my_eyesight',\n",
        "        'hair_type','sign_in_zodiac','on_pokec_i_am_looking_for'], axis='columns', inplace=True)"
      ],
      "execution_count": null,
      "outputs": [
        {
          "output_type": "stream",
          "text": [
            "/usr/local/lib/python3.7/dist-packages/pandas/core/frame.py:4174: SettingWithCopyWarning: \n",
            "A value is trying to be set on a copy of a slice from a DataFrame\n",
            "\n",
            "See the caveats in the documentation: https://pandas.pydata.org/pandas-docs/stable/user_guide/indexing.html#returning-a-view-versus-a-copy\n",
            "  errors=errors,\n"
          ],
          "name": "stderr"
        }
      ]
    },
    {
      "cell_type": "markdown",
      "metadata": {
        "id": "RLgz2ka5SCxZ"
      },
      "source": [
        "Calculating new completion_percentage according to existing columns"
      ]
    },
    {
      "cell_type": "code",
      "metadata": {
        "id": "5pgwua6tSLko",
        "colab": {
          "base_uri": "https://localhost:8080/"
        },
        "outputId": "e9d4c098-d392-43c9-be7b-67f98ae86ed3"
      },
      "source": [
        "# subtracting 1 from total number of columns because we will eventually drop completion_percentage column \n",
        "#and donot want it to be part of overall calculation\n",
        "total_cols=len(df.columns)-1\n",
        "print(total_cols)"
      ],
      "execution_count": null,
      "outputs": [
        {
          "output_type": "stream",
          "text": [
            "33\n"
          ],
          "name": "stdout"
        }
      ]
    },
    {
      "cell_type": "code",
      "metadata": {
        "id": "ZgQxnkYNSeYJ"
      },
      "source": [
        "number_of_nonnull_in_rows=df.notnull().sum(axis=1)\n",
        "  "
      ],
      "execution_count": null,
      "outputs": []
    },
    {
      "cell_type": "code",
      "metadata": {
        "id": "6aF41-GHTF-T"
      },
      "source": [
        "temp1=np.subtract(number_of_nonnull_in_rows,1)\n",
        "temp2=np.divide(temp1,total_cols)\n",
        "new_completion_percentage=np.multiply(temp2,100)"
      ],
      "execution_count": null,
      "outputs": []
    },
    {
      "cell_type": "code",
      "metadata": {
        "id": "jKCsBQwoUCAm",
        "colab": {
          "base_uri": "https://localhost:8080/"
        },
        "outputId": "2c3bca8d-6b62-4028-9b3f-bd0964621907"
      },
      "source": [
        "print(new_completion_percentage)"
      ],
      "execution_count": null,
      "outputs": [
        {
          "output_type": "stream",
          "text": [
            "0          30.303030\n",
            "1          81.818182\n",
            "2          93.939394\n",
            "3          57.575758\n",
            "4          15.151515\n",
            "             ...    \n",
            "1632798    15.151515\n",
            "1632799    15.151515\n",
            "1632800    15.151515\n",
            "1632801    21.212121\n",
            "1632802    15.151515\n",
            "Length: 1632640, dtype: float64\n"
          ],
          "name": "stdout"
        }
      ]
    },
    {
      "cell_type": "code",
      "metadata": {
        "id": "j4aqAbFoKwQc",
        "colab": {
          "base_uri": "https://localhost:8080/"
        },
        "outputId": "bb9e6625-f7a4-49f8-b44e-72a3f10f0466"
      },
      "source": [
        "df['completion_percentage']=new_completion_percentage"
      ],
      "execution_count": null,
      "outputs": [
        {
          "output_type": "stream",
          "text": [
            "/usr/local/lib/python3.7/dist-packages/ipykernel_launcher.py:1: SettingWithCopyWarning: \n",
            "A value is trying to be set on a copy of a slice from a DataFrame.\n",
            "Try using .loc[row_indexer,col_indexer] = value instead\n",
            "\n",
            "See the caveats in the documentation: https://pandas.pydata.org/pandas-docs/stable/user_guide/indexing.html#returning-a-view-versus-a-copy\n",
            "  \"\"\"Entry point for launching an IPython kernel.\n"
          ],
          "name": "stderr"
        }
      ]
    },
    {
      "cell_type": "code",
      "metadata": {
        "id": "dTV5wKeAc0ao",
        "colab": {
          "base_uri": "https://localhost:8080/"
        },
        "outputId": "2fddd205-3050-4531-ca4b-31181e6c42e6"
      },
      "source": [
        "df['completion_percentage']=df['completion_percentage'].astype(int)"
      ],
      "execution_count": null,
      "outputs": [
        {
          "output_type": "stream",
          "text": [
            "/usr/local/lib/python3.7/dist-packages/ipykernel_launcher.py:1: SettingWithCopyWarning: \n",
            "A value is trying to be set on a copy of a slice from a DataFrame.\n",
            "Try using .loc[row_indexer,col_indexer] = value instead\n",
            "\n",
            "See the caveats in the documentation: https://pandas.pydata.org/pandas-docs/stable/user_guide/indexing.html#returning-a-view-versus-a-copy\n",
            "  \"\"\"Entry point for launching an IPython kernel.\n"
          ],
          "name": "stderr"
        }
      ]
    },
    {
      "cell_type": "code",
      "metadata": {
        "id": "Jp1QJxwweQeL",
        "colab": {
          "base_uri": "https://localhost:8080/"
        },
        "outputId": "da7307d3-d6b8-4660-a412-191590b9b5c3"
      },
      "source": [
        "df"
      ],
      "execution_count": null,
      "outputs": [
        {
          "output_type": "execute_result",
          "data": {
            "text/html": [
              "<div>\n",
              "<style scoped>\n",
              "    .dataframe tbody tr th:only-of-type {\n",
              "        vertical-align: middle;\n",
              "    }\n",
              "\n",
              "    .dataframe tbody tr th {\n",
              "        vertical-align: top;\n",
              "    }\n",
              "\n",
              "    .dataframe thead th {\n",
              "        text-align: right;\n",
              "    }\n",
              "</style>\n",
              "<table border=\"1\" class=\"dataframe\">\n",
              "  <thead>\n",
              "    <tr style=\"text-align: right;\">\n",
              "      <th></th>\n",
              "      <th>user_id</th>\n",
              "      <th>completion_percentage</th>\n",
              "      <th>gender</th>\n",
              "      <th>region</th>\n",
              "      <th>last_login</th>\n",
              "      <th>age</th>\n",
              "      <th>I_am_working_in_field</th>\n",
              "      <th>spoken_languages</th>\n",
              "      <th>hobbies</th>\n",
              "      <th>I_most_enjoy_good_food</th>\n",
              "      <th>pets</th>\n",
              "      <th>eye_color</th>\n",
              "      <th>hair_color</th>\n",
              "      <th>completed_level_of_education</th>\n",
              "      <th>favourite_color</th>\n",
              "      <th>relation_to_smoking</th>\n",
              "      <th>relation_to_alcohol</th>\n",
              "      <th>love_is_for_me</th>\n",
              "      <th>relation_to_casual_sex</th>\n",
              "      <th>my_partner_should_be</th>\n",
              "      <th>marital_status</th>\n",
              "      <th>children</th>\n",
              "      <th>relation_to_children</th>\n",
              "      <th>I_like_movies</th>\n",
              "      <th>I_like_watching_movie</th>\n",
              "      <th>I_like_music</th>\n",
              "      <th>I_mostly_like_listening_to_music</th>\n",
              "      <th>the_idea_of_good_evening</th>\n",
              "      <th>I_like_specialties_from_kitchen</th>\n",
              "      <th>I_am_going_to_concerts</th>\n",
              "      <th>my_active_sports</th>\n",
              "      <th>my_passive_sports</th>\n",
              "      <th>profession</th>\n",
              "      <th>I_like_books</th>\n",
              "    </tr>\n",
              "  </thead>\n",
              "  <tbody>\n",
              "    <tr>\n",
              "      <th>0</th>\n",
              "      <td>1</td>\n",
              "      <td>30</td>\n",
              "      <td>1.0</td>\n",
              "      <td>zilinsky kraj, zilina</td>\n",
              "      <td>2012-05-25 11:20:00.0</td>\n",
              "      <td>26.0</td>\n",
              "      <td>it</td>\n",
              "      <td>anglicky</td>\n",
              "      <td>sportovanie, spanie, kino, jedlo, pocuvanie hu...</td>\n",
              "      <td>v dobrej restauracii</td>\n",
              "      <td>mam psa</td>\n",
              "      <td>NaN</td>\n",
              "      <td>NaN</td>\n",
              "      <td>NaN</td>\n",
              "      <td>NaN</td>\n",
              "      <td>NaN</td>\n",
              "      <td>NaN</td>\n",
              "      <td>NaN</td>\n",
              "      <td>NaN</td>\n",
              "      <td>NaN</td>\n",
              "      <td>NaN</td>\n",
              "      <td>NaN</td>\n",
              "      <td>NaN</td>\n",
              "      <td>NaN</td>\n",
              "      <td>NaN</td>\n",
              "      <td>NaN</td>\n",
              "      <td>NaN</td>\n",
              "      <td>NaN</td>\n",
              "      <td>NaN</td>\n",
              "      <td>NaN</td>\n",
              "      <td>NaN</td>\n",
              "      <td>NaN</td>\n",
              "      <td>NaN</td>\n",
              "      <td>NaN</td>\n",
              "    </tr>\n",
              "    <tr>\n",
              "      <th>1</th>\n",
              "      <td>2</td>\n",
              "      <td>81</td>\n",
              "      <td>0.0</td>\n",
              "      <td>zilinsky kraj, kysucke nove mesto</td>\n",
              "      <td>2012-05-25 23:08:00.0</td>\n",
              "      <td>0.0</td>\n",
              "      <td>NaN</td>\n",
              "      <td>nemecky</td>\n",
              "      <td>turistika, prace okolo domu, praca s pc, pocuv...</td>\n",
              "      <td>pri svieckach s partnerom</td>\n",
              "      <td>macka</td>\n",
              "      <td>zelene</td>\n",
              "      <td>cierne</td>\n",
              "      <td>zakladne, ale som uz na strednej skole dufam z...</td>\n",
              "      <td>cierna, modra, ruzova</td>\n",
              "      <td>nefajcim</td>\n",
              "      <td>pijem prilezitostne, iba ked sa nieco kona a t...</td>\n",
              "      <td>nie je nic lepsie, ako byt zamilovany(a)</td>\n",
              "      <td>iba s mojou laskou</td>\n",
              "      <td>laskou mojho zivota</td>\n",
              "      <td>slobodny(a)</td>\n",
              "      <td>no budu a tak chcem 2 deti staci a tak ked bud...</td>\n",
              "      <td>v buducnosti chcem mat deti</td>\n",
              "      <td>komedie, romanticke</td>\n",
              "      <td>doma z gauca</td>\n",
              "      <td>disko, pop, rap a jasn eto co teraz leti najvi...</td>\n",
              "      <td>na diskoteke, pri chodzi</td>\n",
              "      <td>pri svieckach s partnerom</td>\n",
              "      <td>slovenskej</td>\n",
              "      <td>NaN</td>\n",
              "      <td>NaN</td>\n",
              "      <td>NaN</td>\n",
              "      <td>NaN</td>\n",
              "      <td>NaN</td>\n",
              "    </tr>\n",
              "    <tr>\n",
              "      <th>2</th>\n",
              "      <td>16</td>\n",
              "      <td>93</td>\n",
              "      <td>1.0</td>\n",
              "      <td>zilinsky kraj, kysucke nove mesto</td>\n",
              "      <td>2012-05-25 23:19:40.0</td>\n",
              "      <td>23.0</td>\n",
              "      <td>najvatcsej firme na svete urad prace</td>\n",
              "      <td>no predsa svoj :d a najlepsie druhy</td>\n",
              "      <td>cestovanie, pocuvanie hudby, nenudit sa</td>\n",
              "      <td>v dobrej restauracii</td>\n",
              "      <td>ja a nas prefikany alik :)</td>\n",
              "      <td>hnede</td>\n",
              "      <td>hnede hnede</td>\n",
              "      <td>coskoro 24.5 alebo 31.9    :d</td>\n",
              "      <td>biela, modra, zelena</td>\n",
              "      <td>nemam</td>\n",
              "      <td>pijem iba ked musim ...svadby.pohreby.krstiny ...</td>\n",
              "      <td>oplati sa pre nu bojovat</td>\n",
              "      <td>ja uz som stary na take veci :)</td>\n",
              "      <td>ked ho stretnem tak vam o nom porozpravam :)</td>\n",
              "      <td>slobodny(a)</td>\n",
              "      <td>casom ak budem este vladat :d</td>\n",
              "      <td>NaN</td>\n",
              "      <td>take co ma uputaju</td>\n",
              "      <td>v kine s ludmy ktory mam rad</td>\n",
              "      <td>hoci co co zapasuje ale klasa vede atb samozre...</td>\n",
              "      <td>samozrejme sam kazdy ma iny vkus neda sa vsetk...</td>\n",
              "      <td>NaN</td>\n",
              "      <td>ak sa to da ziet tak setko</td>\n",
              "      <td>nie</td>\n",
              "      <td>lyzovanie, plavanie</td>\n",
              "      <td>non kanal</td>\n",
              "      <td>bit lepsi ako druhy</td>\n",
              "      <td>uz ich moc nectem</td>\n",
              "    </tr>\n",
              "    <tr>\n",
              "      <th>3</th>\n",
              "      <td>3</td>\n",
              "      <td>57</td>\n",
              "      <td>1.0</td>\n",
              "      <td>bratislavsky kraj, bratislava - karlova ves</td>\n",
              "      <td>2012-05-10 18:05:00.0</td>\n",
              "      <td>29.0</td>\n",
              "      <td>reklamy a medii, sluzieb a obchodu</td>\n",
              "      <td>anglicky, nemecky</td>\n",
              "      <td>sportovanie, cestovanie</td>\n",
              "      <td>NaN</td>\n",
              "      <td>NaN</td>\n",
              "      <td>zelene</td>\n",
              "      <td>hnede</td>\n",
              "      <td>NaN</td>\n",
              "      <td>cierna, modra</td>\n",
              "      <td>NaN</td>\n",
              "      <td>NaN</td>\n",
              "      <td>NaN</td>\n",
              "      <td>NaN</td>\n",
              "      <td>NaN</td>\n",
              "      <td>slobodny(a)</td>\n",
              "      <td>NaN</td>\n",
              "      <td>NaN</td>\n",
              "      <td>akcne, horory, komedie, sci-fi, dokumentarne, ...</td>\n",
              "      <td>NaN</td>\n",
              "      <td>rock, metal, house, techno, pop, oldies, jazz</td>\n",
              "      <td>v aute, v praci, na koncerte, s partnerom</td>\n",
              "      <td>NaN</td>\n",
              "      <td>slovenskej, talianskej, japonskej</td>\n",
              "      <td>pravidelne</td>\n",
              "      <td>hokej, futbal, auto-moto sporty, squash</td>\n",
              "      <td>auto-moto sporty, futbal, hokej</td>\n",
              "      <td>NaN</td>\n",
              "      <td>NaN</td>\n",
              "    </tr>\n",
              "    <tr>\n",
              "      <th>4</th>\n",
              "      <td>4</td>\n",
              "      <td>15</td>\n",
              "      <td>0.0</td>\n",
              "      <td>banskobystricky kraj, brezno</td>\n",
              "      <td>2011-12-29 12:25:00.0</td>\n",
              "      <td>26.0</td>\n",
              "      <td>NaN</td>\n",
              "      <td>NaN</td>\n",
              "      <td>NaN</td>\n",
              "      <td>NaN</td>\n",
              "      <td>NaN</td>\n",
              "      <td>NaN</td>\n",
              "      <td>NaN</td>\n",
              "      <td>NaN</td>\n",
              "      <td>NaN</td>\n",
              "      <td>NaN</td>\n",
              "      <td>NaN</td>\n",
              "      <td>NaN</td>\n",
              "      <td>NaN</td>\n",
              "      <td>NaN</td>\n",
              "      <td>NaN</td>\n",
              "      <td>NaN</td>\n",
              "      <td>NaN</td>\n",
              "      <td>NaN</td>\n",
              "      <td>NaN</td>\n",
              "      <td>NaN</td>\n",
              "      <td>NaN</td>\n",
              "      <td>NaN</td>\n",
              "      <td>NaN</td>\n",
              "      <td>NaN</td>\n",
              "      <td>NaN</td>\n",
              "      <td>NaN</td>\n",
              "      <td>NaN</td>\n",
              "      <td>NaN</td>\n",
              "    </tr>\n",
              "    <tr>\n",
              "      <th>...</th>\n",
              "      <td>...</td>\n",
              "      <td>...</td>\n",
              "      <td>...</td>\n",
              "      <td>...</td>\n",
              "      <td>...</td>\n",
              "      <td>...</td>\n",
              "      <td>...</td>\n",
              "      <td>...</td>\n",
              "      <td>...</td>\n",
              "      <td>...</td>\n",
              "      <td>...</td>\n",
              "      <td>...</td>\n",
              "      <td>...</td>\n",
              "      <td>...</td>\n",
              "      <td>...</td>\n",
              "      <td>...</td>\n",
              "      <td>...</td>\n",
              "      <td>...</td>\n",
              "      <td>...</td>\n",
              "      <td>...</td>\n",
              "      <td>...</td>\n",
              "      <td>...</td>\n",
              "      <td>...</td>\n",
              "      <td>...</td>\n",
              "      <td>...</td>\n",
              "      <td>...</td>\n",
              "      <td>...</td>\n",
              "      <td>...</td>\n",
              "      <td>...</td>\n",
              "      <td>...</td>\n",
              "      <td>...</td>\n",
              "      <td>...</td>\n",
              "      <td>...</td>\n",
              "      <td>...</td>\n",
              "    </tr>\n",
              "    <tr>\n",
              "      <th>1632798</th>\n",
              "      <td>1632799</td>\n",
              "      <td>15</td>\n",
              "      <td>0.0</td>\n",
              "      <td>banskobystricky kraj, revuca</td>\n",
              "      <td>2012-05-12 16:46:00.0</td>\n",
              "      <td>23.0</td>\n",
              "      <td>NaN</td>\n",
              "      <td>NaN</td>\n",
              "      <td>NaN</td>\n",
              "      <td>NaN</td>\n",
              "      <td>NaN</td>\n",
              "      <td>NaN</td>\n",
              "      <td>NaN</td>\n",
              "      <td>NaN</td>\n",
              "      <td>NaN</td>\n",
              "      <td>NaN</td>\n",
              "      <td>NaN</td>\n",
              "      <td>NaN</td>\n",
              "      <td>NaN</td>\n",
              "      <td>NaN</td>\n",
              "      <td>NaN</td>\n",
              "      <td>NaN</td>\n",
              "      <td>NaN</td>\n",
              "      <td>NaN</td>\n",
              "      <td>NaN</td>\n",
              "      <td>NaN</td>\n",
              "      <td>NaN</td>\n",
              "      <td>NaN</td>\n",
              "      <td>NaN</td>\n",
              "      <td>NaN</td>\n",
              "      <td>NaN</td>\n",
              "      <td>NaN</td>\n",
              "      <td>NaN</td>\n",
              "      <td>NaN</td>\n",
              "    </tr>\n",
              "    <tr>\n",
              "      <th>1632799</th>\n",
              "      <td>1632800</td>\n",
              "      <td>15</td>\n",
              "      <td>1.0</td>\n",
              "      <td>trenciansky kraj, myjava</td>\n",
              "      <td>2012-02-09 02:43:00.0</td>\n",
              "      <td>33.0</td>\n",
              "      <td>NaN</td>\n",
              "      <td>NaN</td>\n",
              "      <td>NaN</td>\n",
              "      <td>NaN</td>\n",
              "      <td>NaN</td>\n",
              "      <td>NaN</td>\n",
              "      <td>NaN</td>\n",
              "      <td>NaN</td>\n",
              "      <td>NaN</td>\n",
              "      <td>NaN</td>\n",
              "      <td>NaN</td>\n",
              "      <td>NaN</td>\n",
              "      <td>NaN</td>\n",
              "      <td>NaN</td>\n",
              "      <td>NaN</td>\n",
              "      <td>NaN</td>\n",
              "      <td>NaN</td>\n",
              "      <td>NaN</td>\n",
              "      <td>NaN</td>\n",
              "      <td>NaN</td>\n",
              "      <td>NaN</td>\n",
              "      <td>NaN</td>\n",
              "      <td>NaN</td>\n",
              "      <td>NaN</td>\n",
              "      <td>NaN</td>\n",
              "      <td>NaN</td>\n",
              "      <td>NaN</td>\n",
              "      <td>NaN</td>\n",
              "    </tr>\n",
              "    <tr>\n",
              "      <th>1632800</th>\n",
              "      <td>1632801</td>\n",
              "      <td>15</td>\n",
              "      <td>1.0</td>\n",
              "      <td>kosicky kraj, kosice - okolie</td>\n",
              "      <td>2012-05-26 12:10:00.0</td>\n",
              "      <td>0.0</td>\n",
              "      <td>NaN</td>\n",
              "      <td>NaN</td>\n",
              "      <td>NaN</td>\n",
              "      <td>NaN</td>\n",
              "      <td>NaN</td>\n",
              "      <td>NaN</td>\n",
              "      <td>NaN</td>\n",
              "      <td>NaN</td>\n",
              "      <td>NaN</td>\n",
              "      <td>NaN</td>\n",
              "      <td>NaN</td>\n",
              "      <td>NaN</td>\n",
              "      <td>NaN</td>\n",
              "      <td>NaN</td>\n",
              "      <td>NaN</td>\n",
              "      <td>NaN</td>\n",
              "      <td>NaN</td>\n",
              "      <td>NaN</td>\n",
              "      <td>NaN</td>\n",
              "      <td>NaN</td>\n",
              "      <td>NaN</td>\n",
              "      <td>NaN</td>\n",
              "      <td>NaN</td>\n",
              "      <td>NaN</td>\n",
              "      <td>NaN</td>\n",
              "      <td>NaN</td>\n",
              "      <td>NaN</td>\n",
              "      <td>NaN</td>\n",
              "    </tr>\n",
              "    <tr>\n",
              "      <th>1632801</th>\n",
              "      <td>1632802</td>\n",
              "      <td>21</td>\n",
              "      <td>1.0</td>\n",
              "      <td>bratislavsky kraj, bratislava - karlova ves</td>\n",
              "      <td>2012-05-16 11:32:00.0</td>\n",
              "      <td>19.0</td>\n",
              "      <td>NaN</td>\n",
              "      <td>NaN</td>\n",
              "      <td>miluju slovaky</td>\n",
              "      <td>NaN</td>\n",
              "      <td>NaN</td>\n",
              "      <td>NaN</td>\n",
              "      <td>NaN</td>\n",
              "      <td>NaN</td>\n",
              "      <td>NaN</td>\n",
              "      <td>NaN</td>\n",
              "      <td>NaN</td>\n",
              "      <td>NaN</td>\n",
              "      <td>NaN</td>\n",
              "      <td>NaN</td>\n",
              "      <td>NaN</td>\n",
              "      <td>NaN</td>\n",
              "      <td>miluju slovaky</td>\n",
              "      <td>NaN</td>\n",
              "      <td>NaN</td>\n",
              "      <td>NaN</td>\n",
              "      <td>NaN</td>\n",
              "      <td>NaN</td>\n",
              "      <td>NaN</td>\n",
              "      <td>NaN</td>\n",
              "      <td>NaN</td>\n",
              "      <td>NaN</td>\n",
              "      <td>NaN</td>\n",
              "      <td>NaN</td>\n",
              "    </tr>\n",
              "    <tr>\n",
              "      <th>1632802</th>\n",
              "      <td>1632803</td>\n",
              "      <td>15</td>\n",
              "      <td>0.0</td>\n",
              "      <td>kosicky kraj, kosice - ostatne</td>\n",
              "      <td>2012-05-27 01:34:00.0</td>\n",
              "      <td>44.0</td>\n",
              "      <td>NaN</td>\n",
              "      <td>NaN</td>\n",
              "      <td>NaN</td>\n",
              "      <td>NaN</td>\n",
              "      <td>NaN</td>\n",
              "      <td>NaN</td>\n",
              "      <td>NaN</td>\n",
              "      <td>NaN</td>\n",
              "      <td>NaN</td>\n",
              "      <td>NaN</td>\n",
              "      <td>NaN</td>\n",
              "      <td>NaN</td>\n",
              "      <td>NaN</td>\n",
              "      <td>NaN</td>\n",
              "      <td>NaN</td>\n",
              "      <td>NaN</td>\n",
              "      <td>NaN</td>\n",
              "      <td>NaN</td>\n",
              "      <td>NaN</td>\n",
              "      <td>NaN</td>\n",
              "      <td>NaN</td>\n",
              "      <td>NaN</td>\n",
              "      <td>NaN</td>\n",
              "      <td>NaN</td>\n",
              "      <td>NaN</td>\n",
              "      <td>NaN</td>\n",
              "      <td>NaN</td>\n",
              "      <td>NaN</td>\n",
              "    </tr>\n",
              "  </tbody>\n",
              "</table>\n",
              "<p>1632640 rows × 34 columns</p>\n",
              "</div>"
            ],
            "text/plain": [
              "         user_id  completion_percentage  ...           profession       I_like_books\n",
              "0              1                     30  ...                  NaN                NaN\n",
              "1              2                     81  ...                  NaN                NaN\n",
              "2             16                     93  ...  bit lepsi ako druhy  uz ich moc nectem\n",
              "3              3                     57  ...                  NaN                NaN\n",
              "4              4                     15  ...                  NaN                NaN\n",
              "...          ...                    ...  ...                  ...                ...\n",
              "1632798  1632799                     15  ...                  NaN                NaN\n",
              "1632799  1632800                     15  ...                  NaN                NaN\n",
              "1632800  1632801                     15  ...                  NaN                NaN\n",
              "1632801  1632802                     21  ...                  NaN                NaN\n",
              "1632802  1632803                     15  ...                  NaN                NaN\n",
              "\n",
              "[1632640 rows x 34 columns]"
            ]
          },
          "metadata": {
            "tags": []
          },
          "execution_count": 21
        }
      ]
    },
    {
      "cell_type": "code",
      "metadata": {
        "id": "yXP6s8QKhG2s",
        "colab": {
          "base_uri": "https://localhost:8080/"
        },
        "outputId": "261a8801-e6ff-4d77-cb1e-b6bef5991711"
      },
      "source": [
        "Counter(df['completion_percentage'])"
      ],
      "execution_count": null,
      "outputs": [
        {
          "output_type": "execute_result",
          "data": {
            "text/plain": [
              "Counter({15: 579757,\n",
              "         18: 24135,\n",
              "         21: 18674,\n",
              "         24: 16830,\n",
              "         27: 17417,\n",
              "         30: 18740,\n",
              "         33: 22174,\n",
              "         36: 20447,\n",
              "         39: 20609,\n",
              "         42: 25131,\n",
              "         45: 18639,\n",
              "         48: 20027,\n",
              "         51: 21761,\n",
              "         54: 22916,\n",
              "         57: 24284,\n",
              "         60: 27099,\n",
              "         63: 25935,\n",
              "         66: 28675,\n",
              "         69: 32358,\n",
              "         72: 37840,\n",
              "         75: 40695,\n",
              "         78: 48131,\n",
              "         81: 57118,\n",
              "         84: 59528,\n",
              "         87: 68011,\n",
              "         90: 74939,\n",
              "         93: 76909,\n",
              "         96: 78815,\n",
              "         100: 105046})"
            ]
          },
          "metadata": {
            "tags": []
          },
          "execution_count": 23
        }
      ]
    },
    {
      "cell_type": "code",
      "metadata": {
        "id": "BvSKFhaCf6xW",
        "colab": {
          "base_uri": "https://localhost:8080/",
          "height": 350
        },
        "outputId": "32f6eff7-ed6f-4bb1-8c55-871e9423da9f"
      },
      "source": [
        "plt.hist(df['completion_percentage'])"
      ],
      "execution_count": null,
      "outputs": [
        {
          "output_type": "execute_result",
          "data": {
            "text/plain": [
              "(array([622566.,  52987.,  63230.,  63797.,  68961.,  53034.,  98873.,\n",
              "        145944., 202478., 260770.]),\n",
              " array([ 15. ,  23.5,  32. ,  40.5,  49. ,  57.5,  66. ,  74.5,  83. ,\n",
              "         91.5, 100. ]),\n",
              " <a list of 10 Patch objects>)"
            ]
          },
          "metadata": {
            "tags": []
          },
          "execution_count": 24
        },
        {
          "output_type": "display_data",
          "data": {
            "image/png": "[encoded data removed]",
            "text/plain": [
              "<Figure size 432x288 with 1 Axes>"
            ]
          },
          "metadata": {
            "tags": [],
            "needs_background": "light"
          }
        }
      ]
    },
    {
      "cell_type": "markdown",
      "metadata": {
        "id": "s93OgYlZhg6m"
      },
      "source": [
        "Dropping rows having completion_percentage less than 60"
      ]
    },
    {
      "cell_type": "code",
      "metadata": {
        "id": "_M7AYwIRhucG"
      },
      "source": [
        "df=df[df.completion_percentage>=60]\n"
      ],
      "execution_count": null,
      "outputs": []
    },
    {
      "cell_type": "code",
      "metadata": {
        "colab": {
          "base_uri": "https://localhost:8080/"
        },
        "id": "Sy8pRErPh9-r",
        "outputId": "e497fd46-c526-429a-c146-aa1842b84402"
      },
      "source": [
        "len(df)"
      ],
      "execution_count": null,
      "outputs": [
        {
          "output_type": "execute_result",
          "data": {
            "text/plain": [
              "761099"
            ]
          },
          "metadata": {
            "tags": []
          },
          "execution_count": 26
        }
      ]
    },
    {
      "cell_type": "code",
      "metadata": {
        "colab": {
          "base_uri": "https://localhost:8080/"
        },
        "id": "vd0Dk1DNiEKp",
        "outputId": "29fdbd1d-03f5-4742-d741-0b4e90a4dff5"
      },
      "source": [
        "df"
      ],
      "execution_count": null,
      "outputs": [
        {
          "output_type": "execute_result",
          "data": {
            "text/html": [
              "<div>\n",
              "<style scoped>\n",
              "    .dataframe tbody tr th:only-of-type {\n",
              "        vertical-align: middle;\n",
              "    }\n",
              "\n",
              "    .dataframe tbody tr th {\n",
              "        vertical-align: top;\n",
              "    }\n",
              "\n",
              "    .dataframe thead th {\n",
              "        text-align: right;\n",
              "    }\n",
              "</style>\n",
              "<table border=\"1\" class=\"dataframe\">\n",
              "  <thead>\n",
              "    <tr style=\"text-align: right;\">\n",
              "      <th></th>\n",
              "      <th>user_id</th>\n",
              "      <th>completion_percentage</th>\n",
              "      <th>gender</th>\n",
              "      <th>region</th>\n",
              "      <th>last_login</th>\n",
              "      <th>age</th>\n",
              "      <th>I_am_working_in_field</th>\n",
              "      <th>spoken_languages</th>\n",
              "      <th>hobbies</th>\n",
              "      <th>I_most_enjoy_good_food</th>\n",
              "      <th>pets</th>\n",
              "      <th>eye_color</th>\n",
              "      <th>hair_color</th>\n",
              "      <th>completed_level_of_education</th>\n",
              "      <th>favourite_color</th>\n",
              "      <th>relation_to_smoking</th>\n",
              "      <th>relation_to_alcohol</th>\n",
              "      <th>love_is_for_me</th>\n",
              "      <th>relation_to_casual_sex</th>\n",
              "      <th>my_partner_should_be</th>\n",
              "      <th>marital_status</th>\n",
              "      <th>children</th>\n",
              "      <th>relation_to_children</th>\n",
              "      <th>I_like_movies</th>\n",
              "      <th>I_like_watching_movie</th>\n",
              "      <th>I_like_music</th>\n",
              "      <th>I_mostly_like_listening_to_music</th>\n",
              "      <th>the_idea_of_good_evening</th>\n",
              "      <th>I_like_specialties_from_kitchen</th>\n",
              "      <th>I_am_going_to_concerts</th>\n",
              "      <th>my_active_sports</th>\n",
              "      <th>my_passive_sports</th>\n",
              "      <th>profession</th>\n",
              "      <th>I_like_books</th>\n",
              "    </tr>\n",
              "  </thead>\n",
              "  <tbody>\n",
              "    <tr>\n",
              "      <th>1</th>\n",
              "      <td>2</td>\n",
              "      <td>81</td>\n",
              "      <td>0.0</td>\n",
              "      <td>zilinsky kraj, kysucke nove mesto</td>\n",
              "      <td>2012-05-25 23:08:00.0</td>\n",
              "      <td>0.0</td>\n",
              "      <td>NaN</td>\n",
              "      <td>nemecky</td>\n",
              "      <td>turistika, prace okolo domu, praca s pc, pocuv...</td>\n",
              "      <td>pri svieckach s partnerom</td>\n",
              "      <td>macka</td>\n",
              "      <td>zelene</td>\n",
              "      <td>cierne</td>\n",
              "      <td>zakladne, ale som uz na strednej skole dufam z...</td>\n",
              "      <td>cierna, modra, ruzova</td>\n",
              "      <td>nefajcim</td>\n",
              "      <td>pijem prilezitostne, iba ked sa nieco kona a t...</td>\n",
              "      <td>nie je nic lepsie, ako byt zamilovany(a)</td>\n",
              "      <td>iba s mojou laskou</td>\n",
              "      <td>laskou mojho zivota</td>\n",
              "      <td>slobodny(a)</td>\n",
              "      <td>no budu a tak chcem 2 deti staci a tak ked bud...</td>\n",
              "      <td>v buducnosti chcem mat deti</td>\n",
              "      <td>komedie, romanticke</td>\n",
              "      <td>doma z gauca</td>\n",
              "      <td>disko, pop, rap a jasn eto co teraz leti najvi...</td>\n",
              "      <td>na diskoteke, pri chodzi</td>\n",
              "      <td>pri svieckach s partnerom</td>\n",
              "      <td>slovenskej</td>\n",
              "      <td>NaN</td>\n",
              "      <td>NaN</td>\n",
              "      <td>NaN</td>\n",
              "      <td>NaN</td>\n",
              "      <td>NaN</td>\n",
              "    </tr>\n",
              "    <tr>\n",
              "      <th>2</th>\n",
              "      <td>16</td>\n",
              "      <td>93</td>\n",
              "      <td>1.0</td>\n",
              "      <td>zilinsky kraj, kysucke nove mesto</td>\n",
              "      <td>2012-05-25 23:19:40.0</td>\n",
              "      <td>23.0</td>\n",
              "      <td>najvatcsej firme na svete urad prace</td>\n",
              "      <td>no predsa svoj :d a najlepsie druhy</td>\n",
              "      <td>cestovanie, pocuvanie hudby, nenudit sa</td>\n",
              "      <td>v dobrej restauracii</td>\n",
              "      <td>ja a nas prefikany alik :)</td>\n",
              "      <td>hnede</td>\n",
              "      <td>hnede hnede</td>\n",
              "      <td>coskoro 24.5 alebo 31.9    :d</td>\n",
              "      <td>biela, modra, zelena</td>\n",
              "      <td>nemam</td>\n",
              "      <td>pijem iba ked musim ...svadby.pohreby.krstiny ...</td>\n",
              "      <td>oplati sa pre nu bojovat</td>\n",
              "      <td>ja uz som stary na take veci :)</td>\n",
              "      <td>ked ho stretnem tak vam o nom porozpravam :)</td>\n",
              "      <td>slobodny(a)</td>\n",
              "      <td>casom ak budem este vladat :d</td>\n",
              "      <td>NaN</td>\n",
              "      <td>take co ma uputaju</td>\n",
              "      <td>v kine s ludmy ktory mam rad</td>\n",
              "      <td>hoci co co zapasuje ale klasa vede atb samozre...</td>\n",
              "      <td>samozrejme sam kazdy ma iny vkus neda sa vsetk...</td>\n",
              "      <td>NaN</td>\n",
              "      <td>ak sa to da ziet tak setko</td>\n",
              "      <td>nie</td>\n",
              "      <td>lyzovanie, plavanie</td>\n",
              "      <td>non kanal</td>\n",
              "      <td>bit lepsi ako druhy</td>\n",
              "      <td>uz ich moc nectem</td>\n",
              "    </tr>\n",
              "    <tr>\n",
              "      <th>5</th>\n",
              "      <td>17</td>\n",
              "      <td>60</td>\n",
              "      <td>0.0</td>\n",
              "      <td>zilinsky kraj, martin</td>\n",
              "      <td>2012-05-25 09:40:00.0</td>\n",
              "      <td>27.0</td>\n",
              "      <td>NaN</td>\n",
              "      <td>anglicky, nemecky</td>\n",
              "      <td>citanie, pocuvanie hudby, pozeranie filmov, sp...</td>\n",
              "      <td>NaN</td>\n",
              "      <td>pes</td>\n",
              "      <td>zelene</td>\n",
              "      <td>blond, odfarbene</td>\n",
              "      <td>vysokoskolske</td>\n",
              "      <td>biela, cierna, modra, fialova</td>\n",
              "      <td>nefajcim</td>\n",
              "      <td>pijem prilezitostne</td>\n",
              "      <td>nie je nic lepsie, ako byt zamilovany(a), hlad...</td>\n",
              "      <td>nedokazem mat s niekym sex bez lasky</td>\n",
              "      <td>NaN</td>\n",
              "      <td>vydata za najuzasnejsieho cloveka pod slnkom</td>\n",
              "      <td>NaN</td>\n",
              "      <td>v buducnosti chcem mat deti</td>\n",
              "      <td>NaN</td>\n",
              "      <td>NaN</td>\n",
              "      <td>NaN</td>\n",
              "      <td>NaN</td>\n",
              "      <td>NaN</td>\n",
              "      <td>NaN</td>\n",
              "      <td>NaN</td>\n",
              "      <td>aerobik, kolieskove korcule, plavanie, posilno...</td>\n",
              "      <td>NaN</td>\n",
              "      <td>zivnostnik</td>\n",
              "      <td>NaN</td>\n",
              "    </tr>\n",
              "    <tr>\n",
              "      <th>6</th>\n",
              "      <td>5</td>\n",
              "      <td>90</td>\n",
              "      <td>1.0</td>\n",
              "      <td>zilinsky kraj, zilina</td>\n",
              "      <td>2012-05-25 01:10:00.0</td>\n",
              "      <td>26.0</td>\n",
              "      <td>som nezamestnany</td>\n",
              "      <td>anglicky, nemecky, pascal</td>\n",
              "      <td>sportovanie, prace v zahrade, pc hry, pocuvani...</td>\n",
              "      <td>v dobrej restauracii</td>\n",
              "      <td>nemam ziadne, nemam rad zvierata zo vseobecnos...</td>\n",
              "      <td>zelene, a trocha hnedej k tomu</td>\n",
              "      <td>hnede, kedysi som ol blondak ale uz sa za to n...</td>\n",
              "      <td>bakalarske, ale este ne som nadumany:)</td>\n",
              "      <td>hneda, modra, zelena</td>\n",
              "      <td>nefajcim</td>\n",
              "      <td>pozitivny</td>\n",
              "      <td>v laske som sa sklamal(a), preto som velmi opa...</td>\n",
              "      <td>NaN</td>\n",
              "      <td>mojou chybajucou polovickou, vydrzat moj spev</td>\n",
              "      <td>slobodny(a)</td>\n",
              "      <td>NaN</td>\n",
              "      <td>NaN</td>\n",
              "      <td>horory, komedie, romanticke, serialy, zahadne,...</td>\n",
              "      <td>v kine</td>\n",
              "      <td>rock, sladaky, alternativa, povedal by som str...</td>\n",
              "      <td>ked ide o kvalitnu hudbu je jedno kde a kedy</td>\n",
              "      <td>ist do kina alebo divadla, ist na koncert, s k...</td>\n",
              "      <td>slovenskej, talianskej</td>\n",
              "      <td>hlavne vytancit a vyspievat</td>\n",
              "      <td>posilnovanie, informatik a posilka..jak som sa...</td>\n",
              "      <td>ja vacsinou na telku nemam cas a na pozeranie ...</td>\n",
              "      <td>skola mi bohate staci</td>\n",
              "      <td>je level kniha???</td>\n",
              "    </tr>\n",
              "    <tr>\n",
              "      <th>8</th>\n",
              "      <td>31</td>\n",
              "      <td>84</td>\n",
              "      <td>1.0</td>\n",
              "      <td>zilinsky kraj, kysucke nove mesto</td>\n",
              "      <td>2012-02-18 13:20:00.0</td>\n",
              "      <td>24.0</td>\n",
              "      <td>NaN</td>\n",
              "      <td>nemecky, slovensky,cesky,ale najlepsie svoj</td>\n",
              "      <td>sportovanie, turistika, prace okolo domu, prac...</td>\n",
              "      <td>NaN</td>\n",
              "      <td>pes, tinku</td>\n",
              "      <td>hnedozelena</td>\n",
              "      <td>ako kedy</td>\n",
              "      <td>stredoskolske</td>\n",
              "      <td>biela, cierna, modra</td>\n",
              "      <td>rad by som prestal</td>\n",
              "      <td>sem tam si taky dam</td>\n",
              "      <td>krasny cit,len skoda ze je jej tak malo a vacs...</td>\n",
              "      <td>vela robia okolnosti</td>\n",
              "      <td>partnerka by mala byt niekym na koho nemozem p...</td>\n",
              "      <td>slobodny,aj bezdetny dufam hehe</td>\n",
              "      <td>NaN</td>\n",
              "      <td>mam velmi rad deti,ale myslim ze na vlastne ma...</td>\n",
              "      <td>ktore ma dokazu pobavit alebo zaujat</td>\n",
              "      <td>NaN</td>\n",
              "      <td>hudba ma musi zaujat,dokazem pocuvat skoro vsetko</td>\n",
              "      <td>v aute alebo pri praci</td>\n",
              "      <td>prezit prijemny vecer s prijemnou spolocnostou</td>\n",
              "      <td>starych rodicov</td>\n",
              "      <td>ee</td>\n",
              "      <td>behanie, kolieskove korcule, plavanie, hraval ...</td>\n",
              "      <td>auto-moto sporty, bojove sporty, futbal, hokej</td>\n",
              "      <td>NaN</td>\n",
              "      <td>naposledy som cital slabikar,knihy ma nebavi c...</td>\n",
              "    </tr>\n",
              "    <tr>\n",
              "      <th>...</th>\n",
              "      <td>...</td>\n",
              "      <td>...</td>\n",
              "      <td>...</td>\n",
              "      <td>...</td>\n",
              "      <td>...</td>\n",
              "      <td>...</td>\n",
              "      <td>...</td>\n",
              "      <td>...</td>\n",
              "      <td>...</td>\n",
              "      <td>...</td>\n",
              "      <td>...</td>\n",
              "      <td>...</td>\n",
              "      <td>...</td>\n",
              "      <td>...</td>\n",
              "      <td>...</td>\n",
              "      <td>...</td>\n",
              "      <td>...</td>\n",
              "      <td>...</td>\n",
              "      <td>...</td>\n",
              "      <td>...</td>\n",
              "      <td>...</td>\n",
              "      <td>...</td>\n",
              "      <td>...</td>\n",
              "      <td>...</td>\n",
              "      <td>...</td>\n",
              "      <td>...</td>\n",
              "      <td>...</td>\n",
              "      <td>...</td>\n",
              "      <td>...</td>\n",
              "      <td>...</td>\n",
              "      <td>...</td>\n",
              "      <td>...</td>\n",
              "      <td>...</td>\n",
              "      <td>...</td>\n",
              "    </tr>\n",
              "    <tr>\n",
              "      <th>1632752</th>\n",
              "      <td>1632753</td>\n",
              "      <td>69</td>\n",
              "      <td>0.0</td>\n",
              "      <td>ceska republika, cz - ustecky kraj</td>\n",
              "      <td>2012-05-20 21:06:00.0</td>\n",
              "      <td>37.0</td>\n",
              "      <td>NaN</td>\n",
              "      <td>NaN</td>\n",
              "      <td>pozeranie filmov, tancovanie, kupalisko, jedlo...</td>\n",
              "      <td>v posteli</td>\n",
              "      <td>macka</td>\n",
              "      <td>zelene</td>\n",
              "      <td>odfarbene</td>\n",
              "      <td>NaN</td>\n",
              "      <td>cervena</td>\n",
              "      <td>fajcim pravidelne</td>\n",
              "      <td>pijem prilezitostne</td>\n",
              "      <td>v laske som sa sklamal(a), preto som velmi opa...</td>\n",
              "      <td>to skutocne zalezi len na okolnostiach</td>\n",
              "      <td>hlavne dobry milenec</td>\n",
              "      <td>rozvedeny(a)</td>\n",
              "      <td>mam</td>\n",
              "      <td>NaN</td>\n",
              "      <td>zahadne, mysteriozne, fantasy</td>\n",
              "      <td>doma z gauca</td>\n",
              "      <td>disko, rock, hitparadovky, pop</td>\n",
              "      <td>na diskoteke, pri sexe</td>\n",
              "      <td>surfovat na sieti a chatovat, pri svieckach s ...</td>\n",
              "      <td>NaN</td>\n",
              "      <td>NaN</td>\n",
              "      <td>NaN</td>\n",
              "      <td>NaN</td>\n",
              "      <td>NaN</td>\n",
              "      <td>NaN</td>\n",
              "    </tr>\n",
              "    <tr>\n",
              "      <th>1632766</th>\n",
              "      <td>1632767</td>\n",
              "      <td>69</td>\n",
              "      <td>0.0</td>\n",
              "      <td>trenciansky kraj, nova dubnica</td>\n",
              "      <td>2012-05-24 11:23:00.0</td>\n",
              "      <td>47.0</td>\n",
              "      <td>sluzieb a obchodu</td>\n",
              "      <td>NaN</td>\n",
              "      <td>priatelia, spanie</td>\n",
              "      <td>NaN</td>\n",
              "      <td>nemam ziadne</td>\n",
              "      <td>hnede</td>\n",
              "      <td>cervene</td>\n",
              "      <td>stredoskolske</td>\n",
              "      <td>fialova</td>\n",
              "      <td>fajcim prilezitostne</td>\n",
              "      <td>NaN</td>\n",
              "      <td>v laske som sa sklamal(a), preto som velmi opa...</td>\n",
              "      <td>sex mozem mat iba s niekym, koho dobre poznam</td>\n",
              "      <td>NaN</td>\n",
              "      <td>slobodny(a)</td>\n",
              "      <td>nemam</td>\n",
              "      <td>NaN</td>\n",
              "      <td>serialy</td>\n",
              "      <td>doma z gauca</td>\n",
              "      <td>NaN</td>\n",
              "      <td>NaN</td>\n",
              "      <td>pri svieckach s partnerom</td>\n",
              "      <td>slovenskej</td>\n",
              "      <td>ja na koncerty nechodim</td>\n",
              "      <td>nesportujem</td>\n",
              "      <td>NaN</td>\n",
              "      <td>NaN</td>\n",
              "      <td>NaN</td>\n",
              "    </tr>\n",
              "    <tr>\n",
              "      <th>1632781</th>\n",
              "      <td>1632782</td>\n",
              "      <td>96</td>\n",
              "      <td>1.0</td>\n",
              "      <td>bratislavsky kraj, bratislava - nove mesto</td>\n",
              "      <td>2012-05-24 23:59:00.0</td>\n",
              "      <td>32.0</td>\n",
              "      <td>spojov a telekomunikacii</td>\n",
              "      <td>anglicky, nemecky</td>\n",
              "      <td>sportovanie, cestovanie, citanie, turistika, v...</td>\n",
              "      <td>v dobrej restauracii, pri svieckach s partnerom</td>\n",
              "      <td>nemam ziadne</td>\n",
              "      <td>modre</td>\n",
              "      <td>hnede</td>\n",
              "      <td>vysokoskolske</td>\n",
              "      <td>modra</td>\n",
              "      <td>nefajcim</td>\n",
              "      <td>pijem prilezitostne</td>\n",
              "      <td>laska je zakladom vyrovnaneho sexualneho zivota</td>\n",
              "      <td>to skutocne zalezi len na okolnostiach</td>\n",
              "      <td>mojou chybajucou polovickou</td>\n",
              "      <td>slobodny(a)</td>\n",
              "      <td>v buducnosti chcem mat</td>\n",
              "      <td>NaN</td>\n",
              "      <td>sci-fi, dokumentarne, historicke</td>\n",
              "      <td>u priatela, priatelky</td>\n",
              "      <td>oldies, pop, house, techno, hitparadovky</td>\n",
              "      <td>v aute, pri sexe, s partnerom</td>\n",
              "      <td>pri svieckach s partnerom, s kamaratmi do baru...</td>\n",
              "      <td>japonskej, greckej, morske zivocichy, slovenskej</td>\n",
              "      <td>zriedkavo</td>\n",
              "      <td>lyzovanie, posilnovanie, plavanie, jachting</td>\n",
              "      <td>hokej, futbal</td>\n",
              "      <td>manager, architekt</td>\n",
              "      <td>psychologicku literaturu, literaturu pre rozvo...</td>\n",
              "    </tr>\n",
              "    <tr>\n",
              "      <th>1632782</th>\n",
              "      <td>1632783</td>\n",
              "      <td>100</td>\n",
              "      <td>1.0</td>\n",
              "      <td>trenciansky kraj, povazska bystrica</td>\n",
              "      <td>2011-06-08 15:35:00.0</td>\n",
              "      <td>37.0</td>\n",
              "      <td>stavebnictva</td>\n",
              "      <td>anglicky, rusky</td>\n",
              "      <td>pozeranie filmov, chovatelstvo, tancovanie, se...</td>\n",
              "      <td>pri svieckach s partnerom, pri telke, v dobrej...</td>\n",
              "      <td>mam rybky, mam psa</td>\n",
              "      <td>modre, zelene</td>\n",
              "      <td>hnede</td>\n",
              "      <td>stredoskolske</td>\n",
              "      <td>zlta, cervena, cierna, modra</td>\n",
              "      <td>fajcim ale nemusim</td>\n",
              "      <td>pijem prilezitostne</td>\n",
              "      <td>v laske vidim zmysel zivota</td>\n",
              "      <td>to skutocne zalezi len na okolnostiach</td>\n",
              "      <td>absolutne zodpovedny a spolahlivy</td>\n",
              "      <td>rozvedeny(a)</td>\n",
              "      <td>1</td>\n",
              "      <td>v buducnosti chcem mat deti</td>\n",
              "      <td>komedie, akcne, vojnove, historicke</td>\n",
              "      <td>doma z gauca</td>\n",
              "      <td>disko, rock, rap, house, techno</td>\n",
              "      <td>v praci, vo vani, s partnerom, na diskoteke</td>\n",
              "      <td>pri svieckach s partnerom</td>\n",
              "      <td>slovenskej, cinskej, mexickej, morske zivocichy</td>\n",
              "      <td>zriedkavo</td>\n",
              "      <td>hokej, plavanie, biliard, snooker</td>\n",
              "      <td>bojove sporty, hokej, volejbal, hadzana, bilia...</td>\n",
              "      <td>robotnik</td>\n",
              "      <td>necitam knihy</td>\n",
              "    </tr>\n",
              "    <tr>\n",
              "      <th>1632784</th>\n",
              "      <td>1632785</td>\n",
              "      <td>60</td>\n",
              "      <td>1.0</td>\n",
              "      <td>trenciansky kraj, povazska bystrica</td>\n",
              "      <td>2011-12-02 18:21:00.0</td>\n",
              "      <td>37.0</td>\n",
              "      <td>NaN</td>\n",
              "      <td>NaN</td>\n",
              "      <td>NaN</td>\n",
              "      <td>pri telke</td>\n",
              "      <td>NaN</td>\n",
              "      <td>modre</td>\n",
              "      <td>NaN</td>\n",
              "      <td>stredoskolske</td>\n",
              "      <td>modra</td>\n",
              "      <td>fajcim pravidelne</td>\n",
              "      <td>abstinent</td>\n",
              "      <td>nie je nic lepsie, ako byt zamilovany(a)</td>\n",
              "      <td>to skutocne zalezi len na okolnostiach</td>\n",
              "      <td>zena</td>\n",
              "      <td>NaN</td>\n",
              "      <td>2</td>\n",
              "      <td>mam ich rad</td>\n",
              "      <td>NaN</td>\n",
              "      <td>doma z gauca</td>\n",
              "      <td>disko, hip-hop</td>\n",
              "      <td>v aute</td>\n",
              "      <td>NaN</td>\n",
              "      <td>slovenskej</td>\n",
              "      <td>NaN</td>\n",
              "      <td>NaN</td>\n",
              "      <td>NaN</td>\n",
              "      <td>NaN</td>\n",
              "      <td>NaN</td>\n",
              "    </tr>\n",
              "  </tbody>\n",
              "</table>\n",
              "<p>761099 rows × 34 columns</p>\n",
              "</div>"
            ],
            "text/plain": [
              "         user_id  ...                                       I_like_books\n",
              "1              2  ...                                                NaN\n",
              "2             16  ...                                  uz ich moc nectem\n",
              "5             17  ...                                                NaN\n",
              "6              5  ...                                  je level kniha???\n",
              "8             31  ...  naposledy som cital slabikar,knihy ma nebavi c...\n",
              "...          ...  ...                                                ...\n",
              "1632752  1632753  ...                                                NaN\n",
              "1632766  1632767  ...                                                NaN\n",
              "1632781  1632782  ...  psychologicku literaturu, literaturu pre rozvo...\n",
              "1632782  1632783  ...                                      necitam knihy\n",
              "1632784  1632785  ...                                                NaN\n",
              "\n",
              "[761099 rows x 34 columns]"
            ]
          },
          "metadata": {
            "tags": []
          },
          "execution_count": 27
        }
      ]
    },
    {
      "cell_type": "markdown",
      "metadata": {
        "id": "NVKOWgMtkbjr"
      },
      "source": [
        "Finally dropping completion_percentage column"
      ]
    },
    {
      "cell_type": "code",
      "metadata": {
        "colab": {
          "base_uri": "https://localhost:8080/"
        },
        "id": "Fw4vPTnSkU7r",
        "outputId": "4c7324ce-002f-455f-dc85-b28bd2d38404"
      },
      "source": [
        "df.drop(['completion_percentage'], axis='columns', inplace=True)"
      ],
      "execution_count": null,
      "outputs": [
        {
          "output_type": "stream",
          "text": [
            "/usr/local/lib/python3.7/dist-packages/pandas/core/frame.py:4174: SettingWithCopyWarning: \n",
            "A value is trying to be set on a copy of a slice from a DataFrame\n",
            "\n",
            "See the caveats in the documentation: https://pandas.pydata.org/pandas-docs/stable/user_guide/indexing.html#returning-a-view-versus-a-copy\n",
            "  errors=errors,\n"
          ],
          "name": "stderr"
        }
      ]
    },
    {
      "cell_type": "markdown",
      "metadata": {
        "id": "X0bhzs-AjtBE"
      },
      "source": [
        "Checking data for outliers"
      ]
    },
    {
      "cell_type": "markdown",
      "metadata": {
        "id": "afgQt9oej18c"
      },
      "source": [
        "Inspecting 'age' column"
      ]
    },
    {
      "cell_type": "code",
      "metadata": {
        "colab": {
          "base_uri": "https://localhost:8080/"
        },
        "id": "sQKdxsjKj5eW",
        "outputId": "b854d831-ab3f-4d5d-88a4-f3919c1d08d8"
      },
      "source": [
        "df['age'].plot.hist()"
      ],
      "execution_count": null,
      "outputs": [
        {
          "output_type": "execute_result",
          "data": {
            "text/plain": [
              "<matplotlib.axes._subplots.AxesSubplot at 0x7fcd5b60a8d0>"
            ]
          },
          "metadata": {
            "tags": []
          },
          "execution_count": 29
        },
        {
          "output_type": "display_data",
          "data": {
            "image/png": "[encoded data removed]",
            "text/plain": [
              "<Figure size 432x288 with 1 Axes>"
            ]
          },
          "metadata": {
            "tags": [],
            "needs_background": "light"
          }
        }
      ]
    },
    {
      "cell_type": "markdown",
      "metadata": {
        "id": "GnxM_WrMzwMo"
      },
      "source": [
        "Removing users with age>=100 and replace users with age=0 with median age"
      ]
    },
    {
      "cell_type": "code",
      "metadata": {
        "id": "pLbSYcoRlCO1"
      },
      "source": [
        "df=df[df.age<100]"
      ],
      "execution_count": null,
      "outputs": []
    },
    {
      "cell_type": "code",
      "metadata": {
        "colab": {
          "base_uri": "https://localhost:8080/"
        },
        "id": "wPpExy_4lHw3",
        "outputId": "95adc032-ec2a-4a13-ed71-18be15d1ff15"
      },
      "source": [
        "med=statistics.median(df['age'])\n",
        "df['age'].mask(df['age'] == 0, med, inplace=True)\n"
      ],
      "execution_count": null,
      "outputs": [
        {
          "output_type": "stream",
          "text": [
            "/usr/local/lib/python3.7/dist-packages/pandas/core/generic.py:9011: SettingWithCopyWarning: \n",
            "A value is trying to be set on a copy of a slice from a DataFrame\n",
            "\n",
            "See the caveats in the documentation: https://pandas.pydata.org/pandas-docs/stable/user_guide/indexing.html#returning-a-view-versus-a-copy\n",
            "  cond, other, inplace, axis, level, errors=errors, try_cast=try_cast\n"
          ],
          "name": "stderr"
        }
      ]
    },
    {
      "cell_type": "code",
      "metadata": {
        "colab": {
          "base_uri": "https://localhost:8080/"
        },
        "id": "zeNvXWQQlTo1",
        "outputId": "20ca17b1-4cac-46eb-9aa1-809b0a5a7a1e"
      },
      "source": [
        "df['age'].plot.hist()"
      ],
      "execution_count": null,
      "outputs": [
        {
          "output_type": "execute_result",
          "data": {
            "text/plain": [
              "<matplotlib.axes._subplots.AxesSubplot at 0x7fcd5b1264d0>"
            ]
          },
          "metadata": {
            "tags": []
          },
          "execution_count": 32
        },
        {
          "output_type": "display_data",
          "data": {
            "image/png": "[encoded data removed]",
            "text/plain": [
              "<Figure size 432x288 with 1 Axes>"
            ]
          },
          "metadata": {
            "tags": [],
            "needs_background": "light"
          }
        }
      ]
    },
    {
      "cell_type": "markdown",
      "metadata": {
        "id": "HpIgap6xsifC"
      },
      "source": [
        "Converting datatype of last_login column from object to datetime"
      ]
    },
    {
      "cell_type": "code",
      "metadata": {
        "colab": {
          "base_uri": "https://localhost:8080/"
        },
        "id": "6goprAcEs2tV",
        "outputId": "df10cf1f-817d-4c18-82f3-b6b30166b9ea"
      },
      "source": [
        "df['last_login']=pd.to_datetime(df['last_login'])"
      ],
      "execution_count": null,
      "outputs": [
        {
          "output_type": "stream",
          "text": [
            "/usr/local/lib/python3.7/dist-packages/ipykernel_launcher.py:1: SettingWithCopyWarning: \n",
            "A value is trying to be set on a copy of a slice from a DataFrame.\n",
            "Try using .loc[row_indexer,col_indexer] = value instead\n",
            "\n",
            "See the caveats in the documentation: https://pandas.pydata.org/pandas-docs/stable/user_guide/indexing.html#returning-a-view-versus-a-copy\n",
            "  \"\"\"Entry point for launching an IPython kernel.\n"
          ],
          "name": "stderr"
        }
      ]
    },
    {
      "cell_type": "code",
      "metadata": {
        "id": "DicL_e55j4NG"
      },
      "source": [
        "df.to_csv(\"clean_data.csv\",index=False)"
      ],
      "execution_count": null,
      "outputs": []
    },
    {
      "cell_type": "code",
      "metadata": {
        "id": "Sdq0v9PTlnBz"
      },
      "source": [
        "#ss=pd.read_csv(\"clean_data.csv\")"
      ],
      "execution_count": null,
      "outputs": []
    },
    {
      "cell_type": "code",
      "metadata": {
        "id": "YZsugvHLltQM"
      },
      "source": [
        "#ss"
      ],
      "execution_count": null,
      "outputs": []
    },
    {
      "cell_type": "code",
      "metadata": {
        "colab": {
          "base_uri": "https://localhost:8080/"
        },
        "id": "ehUB9hsyibKm",
        "outputId": "e4e6427b-a423-4c01-f069-0fd80b2f85f8"
      },
      "source": [
        "plt."
      ],
      "execution_count": null,
      "outputs": [
        {
          "output_type": "error",
          "ename": "SyntaxError",
          "evalue": "ignored",
          "traceback": [
            "\u001b[0;36m  File \u001b[0;32m\"<ipython-input-37-efb1a9b93a17>\"\u001b[0;36m, line \u001b[0;32m1\u001b[0m\n\u001b[0;31m    plt.\u001b[0m\n\u001b[0m        ^\u001b[0m\n\u001b[0;31mSyntaxError\u001b[0m\u001b[0;31m:\u001b[0m invalid syntax\n"
          ]
        }
      ]
    }
  ]
}